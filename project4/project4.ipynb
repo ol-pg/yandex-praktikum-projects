{
 "cells": [
  {
   "cell_type": "markdown",
   "metadata": {},
   "source": [
    "# Исследование объявлений о продаже квартир"
   ]
  },
  {
   "cell_type": "markdown",
   "metadata": {},
   "source": [
    "### Шаг 1. Откройте файл с данными и изучите общую информацию. "
   ]
  },
  {
   "cell_type": "code",
   "execution_count": 245,
   "metadata": {},
   "outputs": [],
   "source": [
    "#импортировали библиотеки\n",
    "import pandas as pd\n",
    "import numpy as np\n",
    "import matplotlib.pyplot as plt\n",
    "from scipy import stats as st\n",
    "import seaborn as sns"
   ]
  },
  {
   "cell_type": "code",
   "execution_count": 246,
   "metadata": {},
   "outputs": [],
   "source": [
    "#прочитали данные из файла\n",
    "games = pd.read_csv('/datasets/games.csv')"
   ]
  },
  {
   "cell_type": "code",
   "execution_count": 247,
   "metadata": {
    "scrolled": true
   },
   "outputs": [
    {
     "data": {
      "text/html": [
       "<div>\n",
       "<style scoped>\n",
       "    .dataframe tbody tr th:only-of-type {\n",
       "        vertical-align: middle;\n",
       "    }\n",
       "\n",
       "    .dataframe tbody tr th {\n",
       "        vertical-align: top;\n",
       "    }\n",
       "\n",
       "    .dataframe thead th {\n",
       "        text-align: right;\n",
       "    }\n",
       "</style>\n",
       "<table border=\"1\" class=\"dataframe\">\n",
       "  <thead>\n",
       "    <tr style=\"text-align: right;\">\n",
       "      <th></th>\n",
       "      <th>Name</th>\n",
       "      <th>Platform</th>\n",
       "      <th>Year_of_Release</th>\n",
       "      <th>Genre</th>\n",
       "      <th>NA_sales</th>\n",
       "      <th>EU_sales</th>\n",
       "      <th>JP_sales</th>\n",
       "      <th>Other_sales</th>\n",
       "      <th>Critic_Score</th>\n",
       "      <th>User_Score</th>\n",
       "      <th>Rating</th>\n",
       "    </tr>\n",
       "  </thead>\n",
       "  <tbody>\n",
       "    <tr>\n",
       "      <td>0</td>\n",
       "      <td>Wii Sports</td>\n",
       "      <td>Wii</td>\n",
       "      <td>2006.0</td>\n",
       "      <td>Sports</td>\n",
       "      <td>41.36</td>\n",
       "      <td>28.96</td>\n",
       "      <td>3.77</td>\n",
       "      <td>8.45</td>\n",
       "      <td>76.0</td>\n",
       "      <td>8</td>\n",
       "      <td>E</td>\n",
       "    </tr>\n",
       "    <tr>\n",
       "      <td>1</td>\n",
       "      <td>Super Mario Bros.</td>\n",
       "      <td>NES</td>\n",
       "      <td>1985.0</td>\n",
       "      <td>Platform</td>\n",
       "      <td>29.08</td>\n",
       "      <td>3.58</td>\n",
       "      <td>6.81</td>\n",
       "      <td>0.77</td>\n",
       "      <td>NaN</td>\n",
       "      <td>NaN</td>\n",
       "      <td>NaN</td>\n",
       "    </tr>\n",
       "    <tr>\n",
       "      <td>2</td>\n",
       "      <td>Mario Kart Wii</td>\n",
       "      <td>Wii</td>\n",
       "      <td>2008.0</td>\n",
       "      <td>Racing</td>\n",
       "      <td>15.68</td>\n",
       "      <td>12.76</td>\n",
       "      <td>3.79</td>\n",
       "      <td>3.29</td>\n",
       "      <td>82.0</td>\n",
       "      <td>8.3</td>\n",
       "      <td>E</td>\n",
       "    </tr>\n",
       "    <tr>\n",
       "      <td>3</td>\n",
       "      <td>Wii Sports Resort</td>\n",
       "      <td>Wii</td>\n",
       "      <td>2009.0</td>\n",
       "      <td>Sports</td>\n",
       "      <td>15.61</td>\n",
       "      <td>10.93</td>\n",
       "      <td>3.28</td>\n",
       "      <td>2.95</td>\n",
       "      <td>80.0</td>\n",
       "      <td>8</td>\n",
       "      <td>E</td>\n",
       "    </tr>\n",
       "    <tr>\n",
       "      <td>4</td>\n",
       "      <td>Pokemon Red/Pokemon Blue</td>\n",
       "      <td>GB</td>\n",
       "      <td>1996.0</td>\n",
       "      <td>Role-Playing</td>\n",
       "      <td>11.27</td>\n",
       "      <td>8.89</td>\n",
       "      <td>10.22</td>\n",
       "      <td>1.00</td>\n",
       "      <td>NaN</td>\n",
       "      <td>NaN</td>\n",
       "      <td>NaN</td>\n",
       "    </tr>\n",
       "  </tbody>\n",
       "</table>\n",
       "</div>"
      ],
      "text/plain": [
       "                       Name Platform  Year_of_Release         Genre  NA_sales  \\\n",
       "0                Wii Sports      Wii           2006.0        Sports     41.36   \n",
       "1         Super Mario Bros.      NES           1985.0      Platform     29.08   \n",
       "2            Mario Kart Wii      Wii           2008.0        Racing     15.68   \n",
       "3         Wii Sports Resort      Wii           2009.0        Sports     15.61   \n",
       "4  Pokemon Red/Pokemon Blue       GB           1996.0  Role-Playing     11.27   \n",
       "\n",
       "   EU_sales  JP_sales  Other_sales  Critic_Score User_Score Rating  \n",
       "0     28.96      3.77         8.45          76.0          8      E  \n",
       "1      3.58      6.81         0.77           NaN        NaN    NaN  \n",
       "2     12.76      3.79         3.29          82.0        8.3      E  \n",
       "3     10.93      3.28         2.95          80.0          8      E  \n",
       "4      8.89     10.22         1.00           NaN        NaN    NaN  "
      ]
     },
     "execution_count": 247,
     "metadata": {},
     "output_type": "execute_result"
    }
   ],
   "source": [
    "games.head()"
   ]
  },
  {
   "cell_type": "code",
   "execution_count": 248,
   "metadata": {},
   "outputs": [
    {
     "name": "stdout",
     "output_type": "stream",
     "text": [
      "<class 'pandas.core.frame.DataFrame'>\n",
      "RangeIndex: 16715 entries, 0 to 16714\n",
      "Data columns (total 11 columns):\n",
      "Name               16713 non-null object\n",
      "Platform           16715 non-null object\n",
      "Year_of_Release    16446 non-null float64\n",
      "Genre              16713 non-null object\n",
      "NA_sales           16715 non-null float64\n",
      "EU_sales           16715 non-null float64\n",
      "JP_sales           16715 non-null float64\n",
      "Other_sales        16715 non-null float64\n",
      "Critic_Score       8137 non-null float64\n",
      "User_Score         10014 non-null object\n",
      "Rating             9949 non-null object\n",
      "dtypes: float64(6), object(5)\n",
      "memory usage: 1.4+ MB\n"
     ]
    }
   ],
   "source": [
    "#вывели информацию о данных\n",
    "games.info()"
   ]
  },
  {
   "cell_type": "markdown",
   "metadata": {},
   "source": [
    "Изначальные данные представлены за 1980-2016 года и содержат 16715 строк и 11 столбцов. Пустые значения могут быть связаны с неполнотой предоставленных данных и недостаточной информацией об играх, например точно может быть неизвестна дата выхода игры, выпущеннй около сорока лет назад."
   ]
  },
  {
   "cell_type": "markdown",
   "metadata": {},
   "source": [
    "### Шаг 2. Предобработка данных\n",
    "\n",
    "- Замените названия столбцов (приведите к нижнему регистру);\n",
    "- Преобразуйте данные в нужные типы. Опишите, в каких столбцах заменили тип данных и почему;\n",
    "- Обработайте пропуски при необходимости:\n",
    " - Объясните, почему заполнили пропуски определённым образом или почему не стали это делать;\n",
    " - Опишите причины, которые могли привести к пропускам;\n",
    " - Обратите внимание на аббревиатуру 'tbd' в столбцах с рейтингом. Отдельно разберите это значение и опишите, как его обработать;\n",
    "- Посчитайте суммарные продажи во всех регионах и запишите их в отдельный столбец."
   ]
  },
  {
   "cell_type": "code",
   "execution_count": 249,
   "metadata": {},
   "outputs": [],
   "source": [
    "#приведите к нижнему регистру\n",
    "games.set_axis(['name',\n",
    "               'platform',\n",
    "               'year_of_release',\n",
    "               'genre',\n",
    "               'na_sales',\n",
    "               'eu_sales',\n",
    "               'jp_sales',\n",
    "               'other_sales',\n",
    "               'critic_score',\n",
    "               'user_score',\n",
    "               'rating'], \n",
    "               axis = 'columns', \n",
    "               inplace = True)"
   ]
  },
  {
   "cell_type": "code",
   "execution_count": 252,
   "metadata": {},
   "outputs": [],
   "source": [
    "#Обработайте пропуски при необходимости\n",
    "games.dropna(subset = ['name'], inplace = True)#удалили пропуски в столбце name,тк их мало"
   ]
  },
  {
   "cell_type": "markdown",
   "metadata": {},
   "source": [
    "В столбце year_of_release 269 пропусков, это где-то 1% всех данных. Он не повлияет на общий анализ, поэтому можем удалить эти пропуски."
   ]
  },
  {
   "cell_type": "code",
   "execution_count": 255,
   "metadata": {},
   "outputs": [],
   "source": [
    "games.dropna(subset = ['year_of_release'], inplace = True)"
   ]
  },
  {
   "cell_type": "code",
   "execution_count": 256,
   "metadata": {},
   "outputs": [],
   "source": [
    "#Преобразуйте данные в нужные типы.\n",
    "games['year_of_release'] = games['year_of_release'].astype('int')#заменили на int, так как год не мб дробным"
   ]
  },
  {
   "cell_type": "code",
   "execution_count": 257,
   "metadata": {},
   "outputs": [
    {
     "data": {
      "text/plain": [
       "array(['E', nan, 'M', 'T', 'E10+', 'K-A', 'AO', 'EC', 'RP'], dtype=object)"
      ]
     },
     "execution_count": 257,
     "metadata": {},
     "output_type": "execute_result"
    }
   ],
   "source": [
    "games['rating'].unique()"
   ]
  },
  {
   "cell_type": "markdown",
   "metadata": {},
   "source": [
    "погуглив выяснили, что:\n",
    "- «EC» («Early childhood») — «Для детей младшего возраста»\n",
    "- «E» («Everyone») — «Для всех».Первоначально \"K-A\" (\"Kids to Adults\").\n",
    "- «E10+» («Everyone 10 and older») — «Для всех от 10 лет и старше»\n",
    "- «T» («Teen») — «Подросткам»\n",
    "- «M» («Mature») — «Для взрослых»\n",
    "- «AO» («Adults Only 18+») — «Только для взрослых»\n",
    "- «RP» («Rating Pending») — «Рейтинг ожидается»\n",
    "\n",
    "поэтому заполним пропуски в столбце rating на RP."
   ]
  },
  {
   "cell_type": "code",
   "execution_count": 258,
   "metadata": {},
   "outputs": [],
   "source": [
    "games['rating'] = games['rating'].fillna('RP')\n",
    "\n",
    "#заменим значение 'K-A' на 'E', тк это это устаревшее значение\n",
    "games['rating']=games['rating'].replace('K-A', 'E')"
   ]
  },
  {
   "cell_type": "code",
   "execution_count": 259,
   "metadata": {},
   "outputs": [],
   "source": [
    "#приведем к нижнему регистру столбецы\n",
    "games['name']=games['name'].str.lower()\n",
    "games['platform']=games['platform'].str.lower()"
   ]
  },
  {
   "cell_type": "code",
   "execution_count": 260,
   "metadata": {},
   "outputs": [
    {
     "data": {
      "text/plain": [
       "3"
      ]
     },
     "execution_count": 260,
     "metadata": {},
     "output_type": "execute_result"
    }
   ],
   "source": [
    "#проверим наличае дубликатов в названии и платформе, \n",
    "#тк одну и ту же игру могли разрабатывать на нескольких платформах\n",
    "games.duplicated(['name', 'platform']).sum()"
   ]
  },
  {
   "cell_type": "code",
   "execution_count": 261,
   "metadata": {},
   "outputs": [
    {
     "data": {
      "text/plain": [
       "0"
      ]
     },
     "execution_count": 261,
     "metadata": {},
     "output_type": "execute_result"
    }
   ],
   "source": [
    "#тк дубликатов мало, можем их удалить\n",
    "games = games.drop_duplicates(['name', 'platform']).reset_index(drop = True)\n",
    "games.duplicated(['name', 'platform']).sum()"
   ]
  },
  {
   "cell_type": "code",
   "execution_count": 262,
   "metadata": {},
   "outputs": [],
   "source": [
    "#заменим проруски critic_score медианой и преобразуем\n",
    "#games['critic_score'] = games['critic_score'].fillna(games['critic_score'].mean()).astype('int')"
   ]
  },
  {
   "cell_type": "code",
   "execution_count": 263,
   "metadata": {},
   "outputs": [
    {
     "name": "stderr",
     "output_type": "stream",
     "text": [
      "/opt/conda/lib/python3.7/site-packages/pandas/core/indexing.py:205: SettingWithCopyWarning: \n",
      "A value is trying to be set on a copy of a slice from a DataFrame\n",
      "\n",
      "See the caveats in the documentation: http://pandas.pydata.org/pandas-docs/stable/user_guide/indexing.html#returning-a-view-versus-a-copy\n",
      "  self._setitem_with_indexer(indexer, value)\n"
     ]
    }
   ],
   "source": [
    "#tbd означает,что оценка будет определена,ее можно заменить на nan\n",
    "games['user_score'].loc[games['user_score'] == 'tbd'] = np.nan\n",
    "games['user_score'] = games['user_score'].astype('float')"
   ]
  },
  {
   "cell_type": "markdown",
   "metadata": {},
   "source": [
    "### Шаг 3. Проведите исследовательский анализ данных\n",
    "1. Посмотрите, сколько игр выпускалось в разные годы. Важны ли данные за все периоды?\n",
    "2. Посмотрите, как менялись продажи по платформам. Выберите платформы с наибольшими суммарными продажами и постройте распределение по годам. За какой характерный срок появляются новые и исчезают старые платформы?\n",
    "3. Возьмите данные за соответствующий актуальный период. Актуальный период определите самостоятельно в результате исследования предыдущих вопросов. Основной фактор — эти данные помогут построить прогноз на 2017 год.\n",
    "4. Не учитывайте в работе данные за предыдущие годы.\n",
    "5. Какие платформы лидируют по продажам, растут или падают? Выберите несколько потенциально прибыльных платформ.\n",
    "6. Постройте график «ящик с усами» по глобальным продажам каждой игры и разбивкой по платформам. Велика ли разница в продажах? А в средних продажах на разных платформах? Опишите результат.\n",
    "7. Посмотрите, как влияют на продажи внутри одной популярной платформы отзывы пользователей и критиков. Постройте диаграмму рассеяния и посчитайте корреляцию между отзывами и продажами. Сформулируйте выводы.\n",
    "8. Соотнесите выводы с продажами игр на других платформах.\n",
    "9. Посмотрите на общее распределение игр по жанрам. Что можно сказать о самых прибыльных жанрах? Выделяются ли жанры с высокими и низкими продажами?"
   ]
  },
  {
   "cell_type": "code",
   "execution_count": 264,
   "metadata": {},
   "outputs": [],
   "source": [
    "#Посмотрите, сколько игр выпускалось в разные годы. Важны ли данные за все периоды?\n",
    "def years(data):\n",
    "    data_pivot = data.pivot_table(index='year_of_release', values ='name', aggfunc='count')\n",
    "    data_pivot.plot(y = 'name', style = 'o-', figsize = (20, 10),grid = True)\n",
    "    print(data_pivot)"
   ]
  },
  {
   "cell_type": "code",
   "execution_count": 265,
   "metadata": {},
   "outputs": [
    {
     "name": "stdout",
     "output_type": "stream",
     "text": [
      "                 name\n",
      "year_of_release      \n",
      "1980                9\n",
      "1981               46\n",
      "1982               36\n",
      "1983               17\n",
      "1984               14\n",
      "1985               14\n",
      "1986               21\n",
      "1987               16\n",
      "1988               15\n",
      "1989               17\n",
      "1990               16\n",
      "1991               41\n",
      "1992               43\n",
      "1993               60\n",
      "1994              121\n",
      "1995              219\n",
      "1996              263\n",
      "1997              289\n",
      "1998              379\n",
      "1999              338\n",
      "2000              350\n",
      "2001              482\n",
      "2002              829\n",
      "2003              775\n",
      "2004              762\n",
      "2005              938\n",
      "2006             1006\n",
      "2007             1197\n",
      "2008             1427\n",
      "2009             1426\n",
      "2010             1255\n",
      "2011             1136\n",
      "2012              651\n",
      "2013              544\n",
      "2014              581\n",
      "2015              606\n",
      "2016              502\n"
     ]
    },
    {
     "data": {
      "image/png": "[encoded data removed]",
      "text/plain": [
       "<Figure size 1440x720 with 1 Axes>"
      ]
     },
     "metadata": {},
     "output_type": "display_data"
    }
   ],
   "source": [
    "years(games)"
   ]
  },
  {
   "cell_type": "markdown",
   "metadata": {},
   "source": [
    "С 1991 года количество игр возрасстает. Пик выпуска игр пришеля на 2008 и 2009 года. После этого количество игр упало до 502 в 2016 году. Данные за все периоды не так важны, тк то что было почти 40 лет назад не очень сильно повлияет на прогноз. Лучше использовать данные за последние 3-5 лет."
   ]
  },
  {
   "cell_type": "code",
   "execution_count": 266,
   "metadata": {},
   "outputs": [],
   "source": [
    "#добавим новый столбец с продажами по всем странам\n",
    "games['all_sales'] = games['na_sales']+games['eu_sales']+games['jp_sales']+games['other_sales']"
   ]
  },
  {
   "cell_type": "code",
   "execution_count": 267,
   "metadata": {
    "scrolled": true
   },
   "outputs": [
    {
     "data": {
      "text/html": [
       "<div>\n",
       "<style scoped>\n",
       "    .dataframe tbody tr th:only-of-type {\n",
       "        vertical-align: middle;\n",
       "    }\n",
       "\n",
       "    .dataframe tbody tr th {\n",
       "        vertical-align: top;\n",
       "    }\n",
       "\n",
       "    .dataframe thead th {\n",
       "        text-align: right;\n",
       "    }\n",
       "</style>\n",
       "<table border=\"1\" class=\"dataframe\">\n",
       "  <thead>\n",
       "    <tr style=\"text-align: right;\">\n",
       "      <th></th>\n",
       "      <th>all_sales</th>\n",
       "    </tr>\n",
       "    <tr>\n",
       "      <th>platform</th>\n",
       "      <th></th>\n",
       "    </tr>\n",
       "  </thead>\n",
       "  <tbody>\n",
       "    <tr>\n",
       "      <td>ps2</td>\n",
       "      <td>1233.56</td>\n",
       "    </tr>\n",
       "    <tr>\n",
       "      <td>x360</td>\n",
       "      <td>959.99</td>\n",
       "    </tr>\n",
       "    <tr>\n",
       "      <td>ps3</td>\n",
       "      <td>931.33</td>\n",
       "    </tr>\n",
       "    <tr>\n",
       "      <td>wii</td>\n",
       "      <td>891.18</td>\n",
       "    </tr>\n",
       "    <tr>\n",
       "      <td>ds</td>\n",
       "      <td>802.78</td>\n",
       "    </tr>\n",
       "    <tr>\n",
       "      <td>ps</td>\n",
       "      <td>727.58</td>\n",
       "    </tr>\n",
       "    <tr>\n",
       "      <td>ps4</td>\n",
       "      <td>314.14</td>\n",
       "    </tr>\n",
       "    <tr>\n",
       "      <td>gba</td>\n",
       "      <td>312.88</td>\n",
       "    </tr>\n",
       "    <tr>\n",
       "      <td>psp</td>\n",
       "      <td>289.53</td>\n",
       "    </tr>\n",
       "    <tr>\n",
       "      <td>3ds</td>\n",
       "      <td>257.81</td>\n",
       "    </tr>\n",
       "    <tr>\n",
       "      <td>pc</td>\n",
       "      <td>255.68</td>\n",
       "    </tr>\n",
       "    <tr>\n",
       "      <td>gb</td>\n",
       "      <td>254.43</td>\n",
       "    </tr>\n",
       "    <tr>\n",
       "      <td>xb</td>\n",
       "      <td>251.57</td>\n",
       "    </tr>\n",
       "    <tr>\n",
       "      <td>nes</td>\n",
       "      <td>251.05</td>\n",
       "    </tr>\n",
       "    <tr>\n",
       "      <td>n64</td>\n",
       "      <td>218.01</td>\n",
       "    </tr>\n",
       "    <tr>\n",
       "      <td>snes</td>\n",
       "      <td>200.04</td>\n",
       "    </tr>\n",
       "    <tr>\n",
       "      <td>gc</td>\n",
       "      <td>196.73</td>\n",
       "    </tr>\n",
       "    <tr>\n",
       "      <td>xone</td>\n",
       "      <td>159.32</td>\n",
       "    </tr>\n",
       "    <tr>\n",
       "      <td>2600</td>\n",
       "      <td>86.48</td>\n",
       "    </tr>\n",
       "    <tr>\n",
       "      <td>wiiu</td>\n",
       "      <td>82.19</td>\n",
       "    </tr>\n",
       "    <tr>\n",
       "      <td>psv</td>\n",
       "      <td>53.81</td>\n",
       "    </tr>\n",
       "    <tr>\n",
       "      <td>sat</td>\n",
       "      <td>33.59</td>\n",
       "    </tr>\n",
       "    <tr>\n",
       "      <td>gen</td>\n",
       "      <td>28.35</td>\n",
       "    </tr>\n",
       "    <tr>\n",
       "      <td>dc</td>\n",
       "      <td>15.95</td>\n",
       "    </tr>\n",
       "    <tr>\n",
       "      <td>scd</td>\n",
       "      <td>1.86</td>\n",
       "    </tr>\n",
       "    <tr>\n",
       "      <td>ng</td>\n",
       "      <td>1.44</td>\n",
       "    </tr>\n",
       "    <tr>\n",
       "      <td>ws</td>\n",
       "      <td>1.42</td>\n",
       "    </tr>\n",
       "    <tr>\n",
       "      <td>tg16</td>\n",
       "      <td>0.16</td>\n",
       "    </tr>\n",
       "    <tr>\n",
       "      <td>3do</td>\n",
       "      <td>0.10</td>\n",
       "    </tr>\n",
       "    <tr>\n",
       "      <td>gg</td>\n",
       "      <td>0.04</td>\n",
       "    </tr>\n",
       "    <tr>\n",
       "      <td>pcfx</td>\n",
       "      <td>0.03</td>\n",
       "    </tr>\n",
       "  </tbody>\n",
       "</table>\n",
       "</div>"
      ],
      "text/plain": [
       "          all_sales\n",
       "platform           \n",
       "ps2         1233.56\n",
       "x360         959.99\n",
       "ps3          931.33\n",
       "wii          891.18\n",
       "ds           802.78\n",
       "ps           727.58\n",
       "ps4          314.14\n",
       "gba          312.88\n",
       "psp          289.53\n",
       "3ds          257.81\n",
       "pc           255.68\n",
       "gb           254.43\n",
       "xb           251.57\n",
       "nes          251.05\n",
       "n64          218.01\n",
       "snes         200.04\n",
       "gc           196.73\n",
       "xone         159.32\n",
       "2600          86.48\n",
       "wiiu          82.19\n",
       "psv           53.81\n",
       "sat           33.59\n",
       "gen           28.35\n",
       "dc            15.95\n",
       "scd            1.86\n",
       "ng             1.44\n",
       "ws             1.42\n",
       "tg16           0.16\n",
       "3do            0.10\n",
       "gg             0.04\n",
       "pcfx           0.03"
      ]
     },
     "execution_count": 267,
     "metadata": {},
     "output_type": "execute_result"
    }
   ],
   "source": [
    "#платформы с наибольшими суммарными продажами\n",
    "games_platform_pivot=games.pivot_table(index='platform', \n",
    "                        values ='all_sales',\n",
    "                        aggfunc='sum').sort_values(by = 'all_sales',ascending = False)\n",
    "games_platform_pivot"
   ]
  },
  {
   "cell_type": "markdown",
   "metadata": {},
   "source": [
    "Платформы с наибольшими суммарными продажами: ps2, x360, ps3, wii, ds, ps."
   ]
  },
  {
   "cell_type": "code",
   "execution_count": 268,
   "metadata": {},
   "outputs": [],
   "source": [
    "games_top=games.query('(\"ps2\",\"x360\",\"ps3\",\"wii\",\"ds\",\"ps\") in platform')"
   ]
  },
  {
   "cell_type": "code",
   "execution_count": 269,
   "metadata": {},
   "outputs": [
    {
     "data": {
      "image/png": "[encoded data removed]",
      "text/plain": [
       "<Figure size 1120.23x504 with 1 Axes>"
      ]
     },
     "metadata": {},
     "output_type": "display_data"
    }
   ],
   "source": [
    "sns.set(font_scale=1.3, style='whitegrid', rc={'lines.linewidth':3})\n",
    "sns.relplot(x = \"year_of_release\",y=\"all_sales\", hue=\"platform\",kind='line',\n",
    "             data=games_top, height=7, aspect=2, ci= None,alpha=0.7, palette='dark')\n",
    "plt.grid(True)\n",
    "plt.show()"
   ]
  },
  {
   "cell_type": "code",
   "execution_count": 270,
   "metadata": {},
   "outputs": [
    {
     "name": "stdout",
     "output_type": "stream",
     "text": [
      "ds 1985\n",
      "ps 1994\n",
      "ps2 2000\n",
      "x360 2005\n",
      "ps3 2006\n",
      "wii 2006\n"
     ]
    }
   ],
   "source": [
    "print('ds',games_top[games_top['platform'] == \"ds\"]['year_of_release'].min())\n",
    "print('ps',games_top[games_top['platform'] == \"ps\"]['year_of_release'].min())\n",
    "print('ps2',games_top[games_top['platform'] == \"ps2\"]['year_of_release'].min())\n",
    "print('x360',games_top[games_top['platform'] == \"x360\"]['year_of_release'].min())\n",
    "print('ps3',games_top[games_top['platform'] == \"ps3\"]['year_of_release'].min())\n",
    "print('wii',games_top[games_top['platform'] == \"wii\"]['year_of_release'].min())"
   ]
  },
  {
   "cell_type": "markdown",
   "metadata": {},
   "source": [
    "Новые платформы появлялись приблизительно каждые 5 лет до 2006 года."
   ]
  },
  {
   "cell_type": "code",
   "execution_count": 271,
   "metadata": {},
   "outputs": [],
   "source": [
    "#возьмем данные за последние 3 года для прогноза\n",
    "games_new=games_top.query('year_of_release>2013')"
   ]
  },
  {
   "cell_type": "code",
   "execution_count": 272,
   "metadata": {},
   "outputs": [
    {
     "data": {
      "text/plain": [
       "<matplotlib.axes._subplots.AxesSubplot at 0x7f41a0d26310>"
      ]
     },
     "execution_count": 272,
     "metadata": {},
     "output_type": "execute_result"
    },
    {
     "data": {
      "image/png": "[encoded data removed]",
      "text/plain": [
       "<Figure size 1152x576 with 1 Axes>"
      ]
     },
     "metadata": {},
     "output_type": "display_data"
    }
   ],
   "source": [
    "#Постройте график «ящик с усами» по глобальным продажам каждой игры и разбивкой по платформам. \n",
    "sns.set(style='whitegrid')\n",
    "plt.figure(figsize=(16,8))\n",
    "sns.boxplot(y='platform',x='all_sales',data=games_new, orient='h',showfliers=False)"
   ]
  },
  {
   "cell_type": "markdown",
   "metadata": {},
   "source": [
    "Выбрав только актуальные данные за 2014-2016 года. Обнаружилось, что данных по платформам ds,ps,ps2 за эти года нет. Разница в продажах у всех платформ разная.\n",
    "\n",
    "- Платформа wii продавалась от 0.04 до 0.76 миллионов долларов. С медианой 0.18.\n",
    "- Платформа x360 продавалась от 0.08 до 0.5 миллионов долларов. С медианой 0.18.\n",
    "- Платформа ps3 продавалась от 0.05 до 0.35 миллионов долларов. С медианой 0.1."
   ]
  },
  {
   "cell_type": "markdown",
   "metadata": {},
   "source": [
    "Рассмотрим все 3 платформы."
   ]
  },
  {
   "cell_type": "code",
   "execution_count": 273,
   "metadata": {},
   "outputs": [
    {
     "data": {
      "text/html": [
       "<div>\n",
       "<style scoped>\n",
       "    .dataframe tbody tr th:only-of-type {\n",
       "        vertical-align: middle;\n",
       "    }\n",
       "\n",
       "    .dataframe tbody tr th {\n",
       "        vertical-align: top;\n",
       "    }\n",
       "\n",
       "    .dataframe thead th {\n",
       "        text-align: right;\n",
       "    }\n",
       "</style>\n",
       "<table border=\"1\" class=\"dataframe\">\n",
       "  <thead>\n",
       "    <tr style=\"text-align: right;\">\n",
       "      <th></th>\n",
       "      <th>name</th>\n",
       "      <th>critic_score</th>\n",
       "      <th>user_score</th>\n",
       "      <th>all_sales</th>\n",
       "    </tr>\n",
       "  </thead>\n",
       "  <tbody>\n",
       "    <tr>\n",
       "      <td>839</td>\n",
       "      <td>just dance 2015</td>\n",
       "      <td>NaN</td>\n",
       "      <td>8.4</td>\n",
       "      <td>2.01</td>\n",
       "    </tr>\n",
       "    <tr>\n",
       "      <td>2150</td>\n",
       "      <td>just dance 2016</td>\n",
       "      <td>NaN</td>\n",
       "      <td>NaN</td>\n",
       "      <td>0.95</td>\n",
       "    </tr>\n",
       "    <tr>\n",
       "      <td>2151</td>\n",
       "      <td>skylanders: trap team</td>\n",
       "      <td>NaN</td>\n",
       "      <td>NaN</td>\n",
       "      <td>0.95</td>\n",
       "    </tr>\n",
       "    <tr>\n",
       "      <td>3560</td>\n",
       "      <td>fifa 15</td>\n",
       "      <td>NaN</td>\n",
       "      <td>4.3</td>\n",
       "      <td>0.56</td>\n",
       "    </tr>\n",
       "    <tr>\n",
       "      <td>7866</td>\n",
       "      <td>how to train your dragon 2</td>\n",
       "      <td>NaN</td>\n",
       "      <td>NaN</td>\n",
       "      <td>0.18</td>\n",
       "    </tr>\n",
       "    <tr>\n",
       "      <td>7884</td>\n",
       "      <td>just dance 2017</td>\n",
       "      <td>NaN</td>\n",
       "      <td>NaN</td>\n",
       "      <td>0.18</td>\n",
       "    </tr>\n",
       "    <tr>\n",
       "      <td>8799</td>\n",
       "      <td>skylanders: superchargers</td>\n",
       "      <td>NaN</td>\n",
       "      <td>NaN</td>\n",
       "      <td>0.15</td>\n",
       "    </tr>\n",
       "    <tr>\n",
       "      <td>13357</td>\n",
       "      <td>disney planes fire &amp; rescue</td>\n",
       "      <td>NaN</td>\n",
       "      <td>NaN</td>\n",
       "      <td>0.04</td>\n",
       "    </tr>\n",
       "    <tr>\n",
       "      <td>14449</td>\n",
       "      <td>barbie and her sisters puppy rescue</td>\n",
       "      <td>NaN</td>\n",
       "      <td>NaN</td>\n",
       "      <td>0.03</td>\n",
       "    </tr>\n",
       "    <tr>\n",
       "      <td>15883</td>\n",
       "      <td>penguins of madagascar</td>\n",
       "      <td>NaN</td>\n",
       "      <td>NaN</td>\n",
       "      <td>0.01</td>\n",
       "    </tr>\n",
       "    <tr>\n",
       "      <td>16045</td>\n",
       "      <td>monster high: new ghoul in school</td>\n",
       "      <td>NaN</td>\n",
       "      <td>NaN</td>\n",
       "      <td>0.01</td>\n",
       "    </tr>\n",
       "  </tbody>\n",
       "</table>\n",
       "</div>"
      ],
      "text/plain": [
       "                                      name  critic_score  user_score  \\\n",
       "839                        just dance 2015           NaN         8.4   \n",
       "2150                       just dance 2016           NaN         NaN   \n",
       "2151                 skylanders: trap team           NaN         NaN   \n",
       "3560                               fifa 15           NaN         4.3   \n",
       "7866            how to train your dragon 2           NaN         NaN   \n",
       "7884                       just dance 2017           NaN         NaN   \n",
       "8799             skylanders: superchargers           NaN         NaN   \n",
       "13357          disney planes fire & rescue           NaN         NaN   \n",
       "14449  barbie and her sisters puppy rescue           NaN         NaN   \n",
       "15883               penguins of madagascar           NaN         NaN   \n",
       "16045    monster high: new ghoul in school           NaN         NaN   \n",
       "\n",
       "       all_sales  \n",
       "839         2.01  \n",
       "2150        0.95  \n",
       "2151        0.95  \n",
       "3560        0.56  \n",
       "7866        0.18  \n",
       "7884        0.18  \n",
       "8799        0.15  \n",
       "13357       0.04  \n",
       "14449       0.03  \n",
       "15883       0.01  \n",
       "16045       0.01  "
      ]
     },
     "execution_count": 273,
     "metadata": {},
     "output_type": "execute_result"
    }
   ],
   "source": [
    "#начнем с wii\n",
    "games_wii=games_new.query('\"wii\" in platform')\n",
    "games_wii.sort_values(by = 'all_sales',\n",
    "                        ascending = False).loc[:, ['name', 'critic_score','user_score','all_sales']]"
   ]
  },
  {
   "cell_type": "code",
   "execution_count": 274,
   "metadata": {
    "scrolled": true
   },
   "outputs": [
    {
     "data": {
      "text/html": [
       "<div>\n",
       "<style scoped>\n",
       "    .dataframe tbody tr th:only-of-type {\n",
       "        vertical-align: middle;\n",
       "    }\n",
       "\n",
       "    .dataframe tbody tr th {\n",
       "        vertical-align: top;\n",
       "    }\n",
       "\n",
       "    .dataframe thead th {\n",
       "        text-align: right;\n",
       "    }\n",
       "</style>\n",
       "<table border=\"1\" class=\"dataframe\">\n",
       "  <thead>\n",
       "    <tr style=\"text-align: right;\">\n",
       "      <th></th>\n",
       "      <th>name</th>\n",
       "      <th>critic_score</th>\n",
       "      <th>user_score</th>\n",
       "      <th>all_sales</th>\n",
       "    </tr>\n",
       "  </thead>\n",
       "  <tbody>\n",
       "    <tr>\n",
       "      <td>262</td>\n",
       "      <td>call of duty: advanced warfare</td>\n",
       "      <td>NaN</td>\n",
       "      <td>4.9</td>\n",
       "      <td>4.28</td>\n",
       "    </tr>\n",
       "    <tr>\n",
       "      <td>490</td>\n",
       "      <td>fifa 15</td>\n",
       "      <td>NaN</td>\n",
       "      <td>4.2</td>\n",
       "      <td>2.92</td>\n",
       "    </tr>\n",
       "    <tr>\n",
       "      <td>818</td>\n",
       "      <td>madden nfl 15</td>\n",
       "      <td>NaN</td>\n",
       "      <td>5.5</td>\n",
       "      <td>2.05</td>\n",
       "    </tr>\n",
       "    <tr>\n",
       "      <td>887</td>\n",
       "      <td>destiny</td>\n",
       "      <td>NaN</td>\n",
       "      <td>4.7</td>\n",
       "      <td>1.92</td>\n",
       "    </tr>\n",
       "    <tr>\n",
       "      <td>1038</td>\n",
       "      <td>call of duty: black ops 3</td>\n",
       "      <td>NaN</td>\n",
       "      <td>NaN</td>\n",
       "      <td>1.70</td>\n",
       "    </tr>\n",
       "    <tr>\n",
       "      <td>1119</td>\n",
       "      <td>nba 2k15</td>\n",
       "      <td>NaN</td>\n",
       "      <td>3.0</td>\n",
       "      <td>1.63</td>\n",
       "    </tr>\n",
       "    <tr>\n",
       "      <td>1169</td>\n",
       "      <td>fifa 16</td>\n",
       "      <td>NaN</td>\n",
       "      <td>2.9</td>\n",
       "      <td>1.57</td>\n",
       "    </tr>\n",
       "    <tr>\n",
       "      <td>1408</td>\n",
       "      <td>titanfall</td>\n",
       "      <td>83.0</td>\n",
       "      <td>5.9</td>\n",
       "      <td>1.36</td>\n",
       "    </tr>\n",
       "    <tr>\n",
       "      <td>1532</td>\n",
       "      <td>the lego movie videogame</td>\n",
       "      <td>69.0</td>\n",
       "      <td>7.2</td>\n",
       "      <td>1.27</td>\n",
       "    </tr>\n",
       "    <tr>\n",
       "      <td>1569</td>\n",
       "      <td>watch dogs</td>\n",
       "      <td>NaN</td>\n",
       "      <td>5.0</td>\n",
       "      <td>1.25</td>\n",
       "    </tr>\n",
       "    <tr>\n",
       "      <td>1883</td>\n",
       "      <td>disney infinity 2.0: marvel super heroes</td>\n",
       "      <td>NaN</td>\n",
       "      <td>NaN</td>\n",
       "      <td>1.08</td>\n",
       "    </tr>\n",
       "    <tr>\n",
       "      <td>1889</td>\n",
       "      <td>plants vs. zombies: garden warfare</td>\n",
       "      <td>69.0</td>\n",
       "      <td>7.3</td>\n",
       "      <td>1.07</td>\n",
       "    </tr>\n",
       "    <tr>\n",
       "      <td>2026</td>\n",
       "      <td>assassin's creed: rogue</td>\n",
       "      <td>72.0</td>\n",
       "      <td>7.3</td>\n",
       "      <td>1.01</td>\n",
       "    </tr>\n",
       "    <tr>\n",
       "      <td>2088</td>\n",
       "      <td>madden nfl 16</td>\n",
       "      <td>NaN</td>\n",
       "      <td>5.1</td>\n",
       "      <td>0.97</td>\n",
       "    </tr>\n",
       "    <tr>\n",
       "      <td>2154</td>\n",
       "      <td>nba 2k16</td>\n",
       "      <td>NaN</td>\n",
       "      <td>3.2</td>\n",
       "      <td>0.94</td>\n",
       "    </tr>\n",
       "    <tr>\n",
       "      <td>2220</td>\n",
       "      <td>south park: the stick of truth</td>\n",
       "      <td>82.0</td>\n",
       "      <td>8.4</td>\n",
       "      <td>0.93</td>\n",
       "    </tr>\n",
       "    <tr>\n",
       "      <td>2266</td>\n",
       "      <td>far cry 4</td>\n",
       "      <td>NaN</td>\n",
       "      <td>7.0</td>\n",
       "      <td>0.90</td>\n",
       "    </tr>\n",
       "    <tr>\n",
       "      <td>2284</td>\n",
       "      <td>skylanders: trap team</td>\n",
       "      <td>NaN</td>\n",
       "      <td>NaN</td>\n",
       "      <td>0.89</td>\n",
       "    </tr>\n",
       "    <tr>\n",
       "      <td>2304</td>\n",
       "      <td>lego batman 3: beyond gotham</td>\n",
       "      <td>NaN</td>\n",
       "      <td>6.8</td>\n",
       "      <td>0.89</td>\n",
       "    </tr>\n",
       "    <tr>\n",
       "      <td>2329</td>\n",
       "      <td>minecraft: story mode</td>\n",
       "      <td>NaN</td>\n",
       "      <td>NaN</td>\n",
       "      <td>0.89</td>\n",
       "    </tr>\n",
       "    <tr>\n",
       "      <td>2370</td>\n",
       "      <td>lego jurassic world</td>\n",
       "      <td>NaN</td>\n",
       "      <td>7.1</td>\n",
       "      <td>0.87</td>\n",
       "    </tr>\n",
       "    <tr>\n",
       "      <td>2573</td>\n",
       "      <td>forza horizon 2</td>\n",
       "      <td>NaN</td>\n",
       "      <td>5.1</td>\n",
       "      <td>0.78</td>\n",
       "    </tr>\n",
       "    <tr>\n",
       "      <td>2718</td>\n",
       "      <td>dark souls ii</td>\n",
       "      <td>91.0</td>\n",
       "      <td>7.9</td>\n",
       "      <td>0.74</td>\n",
       "    </tr>\n",
       "    <tr>\n",
       "      <td>2808</td>\n",
       "      <td>borderlands: the pre-sequel</td>\n",
       "      <td>74.0</td>\n",
       "      <td>6.4</td>\n",
       "      <td>0.73</td>\n",
       "    </tr>\n",
       "    <tr>\n",
       "      <td>3096</td>\n",
       "      <td>wwe 2k15</td>\n",
       "      <td>50.0</td>\n",
       "      <td>4.0</td>\n",
       "      <td>0.64</td>\n",
       "    </tr>\n",
       "    <tr>\n",
       "      <td>3287</td>\n",
       "      <td>just dance 2015</td>\n",
       "      <td>NaN</td>\n",
       "      <td>8.3</td>\n",
       "      <td>0.61</td>\n",
       "    </tr>\n",
       "    <tr>\n",
       "      <td>3741</td>\n",
       "      <td>lego dimensions</td>\n",
       "      <td>NaN</td>\n",
       "      <td>6.1</td>\n",
       "      <td>0.53</td>\n",
       "    </tr>\n",
       "    <tr>\n",
       "      <td>3755</td>\n",
       "      <td>dragon age: inquisition</td>\n",
       "      <td>NaN</td>\n",
       "      <td>5.1</td>\n",
       "      <td>0.53</td>\n",
       "    </tr>\n",
       "    <tr>\n",
       "      <td>3994</td>\n",
       "      <td>middle-earth: shadow of mordor</td>\n",
       "      <td>NaN</td>\n",
       "      <td>4.6</td>\n",
       "      <td>0.48</td>\n",
       "    </tr>\n",
       "    <tr>\n",
       "      <td>4175</td>\n",
       "      <td>the evil within</td>\n",
       "      <td>NaN</td>\n",
       "      <td>7.6</td>\n",
       "      <td>0.46</td>\n",
       "    </tr>\n",
       "  </tbody>\n",
       "</table>\n",
       "</div>"
      ],
      "text/plain": [
       "                                          name  critic_score  user_score  \\\n",
       "262             call of duty: advanced warfare           NaN         4.9   \n",
       "490                                    fifa 15           NaN         4.2   \n",
       "818                              madden nfl 15           NaN         5.5   \n",
       "887                                    destiny           NaN         4.7   \n",
       "1038                 call of duty: black ops 3           NaN         NaN   \n",
       "1119                                  nba 2k15           NaN         3.0   \n",
       "1169                                   fifa 16           NaN         2.9   \n",
       "1408                                 titanfall          83.0         5.9   \n",
       "1532                  the lego movie videogame          69.0         7.2   \n",
       "1569                                watch dogs           NaN         5.0   \n",
       "1883  disney infinity 2.0: marvel super heroes           NaN         NaN   \n",
       "1889        plants vs. zombies: garden warfare          69.0         7.3   \n",
       "2026                   assassin's creed: rogue          72.0         7.3   \n",
       "2088                             madden nfl 16           NaN         5.1   \n",
       "2154                                  nba 2k16           NaN         3.2   \n",
       "2220            south park: the stick of truth          82.0         8.4   \n",
       "2266                                 far cry 4           NaN         7.0   \n",
       "2284                     skylanders: trap team           NaN         NaN   \n",
       "2304              lego batman 3: beyond gotham           NaN         6.8   \n",
       "2329                     minecraft: story mode           NaN         NaN   \n",
       "2370                       lego jurassic world           NaN         7.1   \n",
       "2573                           forza horizon 2           NaN         5.1   \n",
       "2718                             dark souls ii          91.0         7.9   \n",
       "2808               borderlands: the pre-sequel          74.0         6.4   \n",
       "3096                                  wwe 2k15          50.0         4.0   \n",
       "3287                           just dance 2015           NaN         8.3   \n",
       "3741                           lego dimensions           NaN         6.1   \n",
       "3755                   dragon age: inquisition           NaN         5.1   \n",
       "3994            middle-earth: shadow of mordor           NaN         4.6   \n",
       "4175                           the evil within           NaN         7.6   \n",
       "\n",
       "      all_sales  \n",
       "262        4.28  \n",
       "490        2.92  \n",
       "818        2.05  \n",
       "887        1.92  \n",
       "1038       1.70  \n",
       "1119       1.63  \n",
       "1169       1.57  \n",
       "1408       1.36  \n",
       "1532       1.27  \n",
       "1569       1.25  \n",
       "1883       1.08  \n",
       "1889       1.07  \n",
       "2026       1.01  \n",
       "2088       0.97  \n",
       "2154       0.94  \n",
       "2220       0.93  \n",
       "2266       0.90  \n",
       "2284       0.89  \n",
       "2304       0.89  \n",
       "2329       0.89  \n",
       "2370       0.87  \n",
       "2573       0.78  \n",
       "2718       0.74  \n",
       "2808       0.73  \n",
       "3096       0.64  \n",
       "3287       0.61  \n",
       "3741       0.53  \n",
       "3755       0.53  \n",
       "3994       0.48  \n",
       "4175       0.46  "
      ]
     },
     "execution_count": 274,
     "metadata": {},
     "output_type": "execute_result"
    }
   ],
   "source": [
    "#далее платформа x360\n",
    "games_x360=games_new.query('\"x360\" in platform')\n",
    "games_x360.sort_values(by = 'all_sales',\n",
    "                        ascending = False).loc[:, ['name', 'critic_score','user_score','all_sales']].head(30)"
   ]
  },
  {
   "cell_type": "code",
   "execution_count": 275,
   "metadata": {
    "scrolled": true
   },
   "outputs": [
    {
     "data": {
      "text/html": [
       "<div>\n",
       "<style scoped>\n",
       "    .dataframe tbody tr th:only-of-type {\n",
       "        vertical-align: middle;\n",
       "    }\n",
       "\n",
       "    .dataframe tbody tr th {\n",
       "        vertical-align: top;\n",
       "    }\n",
       "\n",
       "    .dataframe thead th {\n",
       "        text-align: right;\n",
       "    }\n",
       "</style>\n",
       "<table border=\"1\" class=\"dataframe\">\n",
       "  <thead>\n",
       "    <tr style=\"text-align: right;\">\n",
       "      <th></th>\n",
       "      <th>name</th>\n",
       "      <th>critic_score</th>\n",
       "      <th>user_score</th>\n",
       "      <th>all_sales</th>\n",
       "    </tr>\n",
       "  </thead>\n",
       "  <tbody>\n",
       "    <tr>\n",
       "      <td>180</td>\n",
       "      <td>minecraft</td>\n",
       "      <td>NaN</td>\n",
       "      <td>NaN</td>\n",
       "      <td>5.27</td>\n",
       "    </tr>\n",
       "    <tr>\n",
       "      <td>254</td>\n",
       "      <td>call of duty: advanced warfare</td>\n",
       "      <td>NaN</td>\n",
       "      <td>4.8</td>\n",
       "      <td>4.36</td>\n",
       "    </tr>\n",
       "    <tr>\n",
       "      <td>263</td>\n",
       "      <td>fifa 15</td>\n",
       "      <td>NaN</td>\n",
       "      <td>4.5</td>\n",
       "      <td>4.28</td>\n",
       "    </tr>\n",
       "    <tr>\n",
       "      <td>548</td>\n",
       "      <td>fifa 16</td>\n",
       "      <td>NaN</td>\n",
       "      <td>3.2</td>\n",
       "      <td>2.70</td>\n",
       "    </tr>\n",
       "    <tr>\n",
       "      <td>1010</td>\n",
       "      <td>watch dogs</td>\n",
       "      <td>NaN</td>\n",
       "      <td>5.1</td>\n",
       "      <td>1.74</td>\n",
       "    </tr>\n",
       "    <tr>\n",
       "      <td>1051</td>\n",
       "      <td>call of duty: black ops 3</td>\n",
       "      <td>NaN</td>\n",
       "      <td>NaN</td>\n",
       "      <td>1.69</td>\n",
       "    </tr>\n",
       "    <tr>\n",
       "      <td>1129</td>\n",
       "      <td>destiny</td>\n",
       "      <td>NaN</td>\n",
       "      <td>4.5</td>\n",
       "      <td>1.61</td>\n",
       "    </tr>\n",
       "    <tr>\n",
       "      <td>1300</td>\n",
       "      <td>madden nfl 15</td>\n",
       "      <td>NaN</td>\n",
       "      <td>2.7</td>\n",
       "      <td>1.46</td>\n",
       "    </tr>\n",
       "    <tr>\n",
       "      <td>1448</td>\n",
       "      <td>nba 2k15</td>\n",
       "      <td>NaN</td>\n",
       "      <td>3.5</td>\n",
       "      <td>1.34</td>\n",
       "    </tr>\n",
       "    <tr>\n",
       "      <td>1502</td>\n",
       "      <td>far cry 4</td>\n",
       "      <td>NaN</td>\n",
       "      <td>7.3</td>\n",
       "      <td>1.29</td>\n",
       "    </tr>\n",
       "    <tr>\n",
       "      <td>1517</td>\n",
       "      <td>assassin's creed: rogue</td>\n",
       "      <td>72.0</td>\n",
       "      <td>7.5</td>\n",
       "      <td>1.28</td>\n",
       "    </tr>\n",
       "    <tr>\n",
       "      <td>1534</td>\n",
       "      <td>dark souls ii</td>\n",
       "      <td>91.0</td>\n",
       "      <td>8.1</td>\n",
       "      <td>1.28</td>\n",
       "    </tr>\n",
       "    <tr>\n",
       "      <td>1603</td>\n",
       "      <td>kingdom hearts ii</td>\n",
       "      <td>NaN</td>\n",
       "      <td>NaN</td>\n",
       "      <td>1.23</td>\n",
       "    </tr>\n",
       "    <tr>\n",
       "      <td>2135</td>\n",
       "      <td>disney infinity 2.0: marvel super heroes</td>\n",
       "      <td>NaN</td>\n",
       "      <td>NaN</td>\n",
       "      <td>0.95</td>\n",
       "    </tr>\n",
       "    <tr>\n",
       "      <td>2219</td>\n",
       "      <td>south park: the stick of truth</td>\n",
       "      <td>85.0</td>\n",
       "      <td>8.5</td>\n",
       "      <td>0.93</td>\n",
       "    </tr>\n",
       "    <tr>\n",
       "      <td>2207</td>\n",
       "      <td>the lego movie videogame</td>\n",
       "      <td>80.0</td>\n",
       "      <td>6.8</td>\n",
       "      <td>0.93</td>\n",
       "    </tr>\n",
       "    <tr>\n",
       "      <td>2432</td>\n",
       "      <td>the evil within</td>\n",
       "      <td>NaN</td>\n",
       "      <td>7.6</td>\n",
       "      <td>0.85</td>\n",
       "    </tr>\n",
       "    <tr>\n",
       "      <td>2403</td>\n",
       "      <td>lego jurassic world</td>\n",
       "      <td>NaN</td>\n",
       "      <td>7.4</td>\n",
       "      <td>0.85</td>\n",
       "    </tr>\n",
       "    <tr>\n",
       "      <td>2575</td>\n",
       "      <td>wwe 2k15</td>\n",
       "      <td>55.0</td>\n",
       "      <td>3.1</td>\n",
       "      <td>0.78</td>\n",
       "    </tr>\n",
       "    <tr>\n",
       "      <td>2588</td>\n",
       "      <td>madden nfl 16</td>\n",
       "      <td>NaN</td>\n",
       "      <td>3.1</td>\n",
       "      <td>0.77</td>\n",
       "    </tr>\n",
       "    <tr>\n",
       "      <td>2735</td>\n",
       "      <td>lego batman 3: beyond gotham</td>\n",
       "      <td>NaN</td>\n",
       "      <td>6.7</td>\n",
       "      <td>0.73</td>\n",
       "    </tr>\n",
       "    <tr>\n",
       "      <td>2741</td>\n",
       "      <td>nba 2k16</td>\n",
       "      <td>NaN</td>\n",
       "      <td>4.6</td>\n",
       "      <td>0.73</td>\n",
       "    </tr>\n",
       "    <tr>\n",
       "      <td>2743</td>\n",
       "      <td>fifa 17</td>\n",
       "      <td>NaN</td>\n",
       "      <td>3.3</td>\n",
       "      <td>0.73</td>\n",
       "    </tr>\n",
       "    <tr>\n",
       "      <td>2904</td>\n",
       "      <td>minecraft: story mode</td>\n",
       "      <td>NaN</td>\n",
       "      <td>NaN</td>\n",
       "      <td>0.69</td>\n",
       "    </tr>\n",
       "    <tr>\n",
       "      <td>2992</td>\n",
       "      <td>skylanders: trap team</td>\n",
       "      <td>NaN</td>\n",
       "      <td>7.0</td>\n",
       "      <td>0.67</td>\n",
       "    </tr>\n",
       "    <tr>\n",
       "      <td>3034</td>\n",
       "      <td>plants vs. zombies: garden warfare</td>\n",
       "      <td>NaN</td>\n",
       "      <td>7.8</td>\n",
       "      <td>0.66</td>\n",
       "    </tr>\n",
       "    <tr>\n",
       "      <td>3130</td>\n",
       "      <td>littlebigplanet 3</td>\n",
       "      <td>NaN</td>\n",
       "      <td>7.2</td>\n",
       "      <td>0.64</td>\n",
       "    </tr>\n",
       "    <tr>\n",
       "      <td>3093</td>\n",
       "      <td>metal gear solid v: the phantom pain</td>\n",
       "      <td>NaN</td>\n",
       "      <td>7.2</td>\n",
       "      <td>0.64</td>\n",
       "    </tr>\n",
       "    <tr>\n",
       "      <td>3254</td>\n",
       "      <td>borderlands: the pre-sequel</td>\n",
       "      <td>77.0</td>\n",
       "      <td>6.3</td>\n",
       "      <td>0.62</td>\n",
       "    </tr>\n",
       "    <tr>\n",
       "      <td>3225</td>\n",
       "      <td>2014 fifa world cup brazil</td>\n",
       "      <td>73.0</td>\n",
       "      <td>4.3</td>\n",
       "      <td>0.61</td>\n",
       "    </tr>\n",
       "  </tbody>\n",
       "</table>\n",
       "</div>"
      ],
      "text/plain": [
       "                                          name  critic_score  user_score  \\\n",
       "180                                  minecraft           NaN         NaN   \n",
       "254             call of duty: advanced warfare           NaN         4.8   \n",
       "263                                    fifa 15           NaN         4.5   \n",
       "548                                    fifa 16           NaN         3.2   \n",
       "1010                                watch dogs           NaN         5.1   \n",
       "1051                 call of duty: black ops 3           NaN         NaN   \n",
       "1129                                   destiny           NaN         4.5   \n",
       "1300                             madden nfl 15           NaN         2.7   \n",
       "1448                                  nba 2k15           NaN         3.5   \n",
       "1502                                 far cry 4           NaN         7.3   \n",
       "1517                   assassin's creed: rogue          72.0         7.5   \n",
       "1534                             dark souls ii          91.0         8.1   \n",
       "1603                         kingdom hearts ii           NaN         NaN   \n",
       "2135  disney infinity 2.0: marvel super heroes           NaN         NaN   \n",
       "2219            south park: the stick of truth          85.0         8.5   \n",
       "2207                  the lego movie videogame          80.0         6.8   \n",
       "2432                           the evil within           NaN         7.6   \n",
       "2403                       lego jurassic world           NaN         7.4   \n",
       "2575                                  wwe 2k15          55.0         3.1   \n",
       "2588                             madden nfl 16           NaN         3.1   \n",
       "2735              lego batman 3: beyond gotham           NaN         6.7   \n",
       "2741                                  nba 2k16           NaN         4.6   \n",
       "2743                                   fifa 17           NaN         3.3   \n",
       "2904                     minecraft: story mode           NaN         NaN   \n",
       "2992                     skylanders: trap team           NaN         7.0   \n",
       "3034        plants vs. zombies: garden warfare           NaN         7.8   \n",
       "3130                         littlebigplanet 3           NaN         7.2   \n",
       "3093      metal gear solid v: the phantom pain           NaN         7.2   \n",
       "3254               borderlands: the pre-sequel          77.0         6.3   \n",
       "3225                2014 fifa world cup brazil          73.0         4.3   \n",
       "\n",
       "      all_sales  \n",
       "180        5.27  \n",
       "254        4.36  \n",
       "263        4.28  \n",
       "548        2.70  \n",
       "1010       1.74  \n",
       "1051       1.69  \n",
       "1129       1.61  \n",
       "1300       1.46  \n",
       "1448       1.34  \n",
       "1502       1.29  \n",
       "1517       1.28  \n",
       "1534       1.28  \n",
       "1603       1.23  \n",
       "2135       0.95  \n",
       "2219       0.93  \n",
       "2207       0.93  \n",
       "2432       0.85  \n",
       "2403       0.85  \n",
       "2575       0.78  \n",
       "2588       0.77  \n",
       "2735       0.73  \n",
       "2741       0.73  \n",
       "2743       0.73  \n",
       "2904       0.69  \n",
       "2992       0.67  \n",
       "3034       0.66  \n",
       "3130       0.64  \n",
       "3093       0.64  \n",
       "3254       0.62  \n",
       "3225       0.61  "
      ]
     },
     "execution_count": 275,
     "metadata": {},
     "output_type": "execute_result"
    }
   ],
   "source": [
    "#далее платформа ps3\n",
    "games_ps3=games_new.query('\"ps3\" in platform')\n",
    "games_ps3.sort_values(by = 'all_sales',\n",
    "                        ascending = False).loc[:, ['name', 'critic_score','user_score','all_sales']].head(30)"
   ]
  },
  {
   "cell_type": "markdown",
   "metadata": {},
   "source": [
    "Оценки критиков и пользователей различны. Оценки влияют на продажи, чем выше оценка, тем лучше продается игра. Однако есть исключения, например игра fifa 16 имеет низкую оценку пользователей, но продается на этой платформе ps3 хорошо. Или же игра dark souls ii имеет высокую оценку критиков и пользователей, даже больше, чем лидер продаж - игра minecraft\t. Однако сильно уступает по продажам."
   ]
  },
  {
   "cell_type": "code",
   "execution_count": 276,
   "metadata": {},
   "outputs": [
    {
     "data": {
      "text/plain": [
       "0.24544660258744538"
      ]
     },
     "execution_count": 276,
     "metadata": {},
     "output_type": "execute_result"
    }
   ],
   "source": [
    "#посчитайте корреляцию между отзывами и продажами.\n",
    "games['critic_score'].corr(games['all_sales'])"
   ]
  },
  {
   "cell_type": "code",
   "execution_count": 277,
   "metadata": {},
   "outputs": [
    {
     "data": {
      "text/plain": [
       "0.08795661382847333"
      ]
     },
     "execution_count": 277,
     "metadata": {},
     "output_type": "execute_result"
    }
   ],
   "source": [
    "games['user_score'].corr(games['all_sales'])"
   ]
  },
  {
   "cell_type": "markdown",
   "metadata": {},
   "source": [
    "Зависимость между ними оценками пользователей и продажами есть; зависимость между ними оценками критиков и продажами есть. Зависимость может быть вызвана тем, что многие люди смотрят на оценку игры перед покупкой."
   ]
  },
  {
   "cell_type": "code",
   "execution_count": 278,
   "metadata": {},
   "outputs": [
    {
     "data": {
      "text/plain": [
       "<matplotlib.axes._subplots.AxesSubplot at 0x7f41a0bb7d50>"
      ]
     },
     "execution_count": 278,
     "metadata": {},
     "output_type": "execute_result"
    },
    {
     "data": {
      "image/png": "[encoded data removed]",
      "text/plain": [
       "<Figure size 720x216 with 1 Axes>"
      ]
     },
     "metadata": {},
     "output_type": "display_data"
    }
   ],
   "source": [
    "#Постройте диаграмму рассеяния\n",
    "games.plot(x = 'user_score', \n",
    "           y = 'all_sales',\n",
    "           style = 'o',\n",
    "           grid=True, \n",
    "           figsize=(10, 3), \n",
    "           alpha=0.1)"
   ]
  },
  {
   "cell_type": "markdown",
   "metadata": {},
   "source": [
    "Больше всего продаж игр с высокими оценками пользователей около 8."
   ]
  },
  {
   "cell_type": "code",
   "execution_count": 279,
   "metadata": {},
   "outputs": [
    {
     "data": {
      "text/plain": [
       "<matplotlib.axes._subplots.AxesSubplot at 0x7f41a0ba2ed0>"
      ]
     },
     "execution_count": 279,
     "metadata": {},
     "output_type": "execute_result"
    },
    {
     "data": {
      "image/png": "[encoded data removed]",
      "text/plain": [
       "<Figure size 720x216 with 1 Axes>"
      ]
     },
     "metadata": {},
     "output_type": "display_data"
    }
   ],
   "source": [
    "games.plot(x = 'critic_score', \n",
    "           y = 'all_sales',\n",
    "           style = 'o',\n",
    "           grid=True, \n",
    "           figsize=(10, 3), \n",
    "           alpha=0.1)"
   ]
  },
  {
   "cell_type": "markdown",
   "metadata": {},
   "source": [
    "С оценки критиков 68 продажи начинают расти."
   ]
  },
  {
   "cell_type": "code",
   "execution_count": 280,
   "metadata": {
    "scrolled": true
   },
   "outputs": [
    {
     "data": {
      "text/html": [
       "<div>\n",
       "<style scoped>\n",
       "    .dataframe tbody tr th:only-of-type {\n",
       "        vertical-align: middle;\n",
       "    }\n",
       "\n",
       "    .dataframe tbody tr th {\n",
       "        vertical-align: top;\n",
       "    }\n",
       "\n",
       "    .dataframe thead th {\n",
       "        text-align: right;\n",
       "    }\n",
       "</style>\n",
       "<table border=\"1\" class=\"dataframe\">\n",
       "  <thead>\n",
       "    <tr style=\"text-align: right;\">\n",
       "      <th></th>\n",
       "      <th>name</th>\n",
       "      <th>critic_score</th>\n",
       "      <th>user_score</th>\n",
       "      <th>all_sales</th>\n",
       "      <th>platform</th>\n",
       "    </tr>\n",
       "  </thead>\n",
       "  <tbody>\n",
       "    <tr>\n",
       "      <td>1</td>\n",
       "      <td>super mario bros.</td>\n",
       "      <td>NaN</td>\n",
       "      <td>NaN</td>\n",
       "      <td>40.24</td>\n",
       "      <td>nes</td>\n",
       "    </tr>\n",
       "    <tr>\n",
       "      <td>4</td>\n",
       "      <td>pokemon red/pokemon blue</td>\n",
       "      <td>NaN</td>\n",
       "      <td>NaN</td>\n",
       "      <td>31.38</td>\n",
       "      <td>gb</td>\n",
       "    </tr>\n",
       "    <tr>\n",
       "      <td>5</td>\n",
       "      <td>tetris</td>\n",
       "      <td>NaN</td>\n",
       "      <td>NaN</td>\n",
       "      <td>30.26</td>\n",
       "      <td>gb</td>\n",
       "    </tr>\n",
       "    <tr>\n",
       "      <td>6</td>\n",
       "      <td>new super mario bros.</td>\n",
       "      <td>89.0</td>\n",
       "      <td>8.5</td>\n",
       "      <td>29.80</td>\n",
       "      <td>ds</td>\n",
       "    </tr>\n",
       "    <tr>\n",
       "      <td>9</td>\n",
       "      <td>duck hunt</td>\n",
       "      <td>NaN</td>\n",
       "      <td>NaN</td>\n",
       "      <td>28.31</td>\n",
       "      <td>nes</td>\n",
       "    </tr>\n",
       "    <tr>\n",
       "      <td>10</td>\n",
       "      <td>nintendogs</td>\n",
       "      <td>NaN</td>\n",
       "      <td>NaN</td>\n",
       "      <td>24.67</td>\n",
       "      <td>ds</td>\n",
       "    </tr>\n",
       "    <tr>\n",
       "      <td>11</td>\n",
       "      <td>mario kart ds</td>\n",
       "      <td>91.0</td>\n",
       "      <td>8.6</td>\n",
       "      <td>23.21</td>\n",
       "      <td>ds</td>\n",
       "    </tr>\n",
       "    <tr>\n",
       "      <td>12</td>\n",
       "      <td>pokemon gold/pokemon silver</td>\n",
       "      <td>NaN</td>\n",
       "      <td>NaN</td>\n",
       "      <td>23.09</td>\n",
       "      <td>gb</td>\n",
       "    </tr>\n",
       "    <tr>\n",
       "      <td>17</td>\n",
       "      <td>grand theft auto: san andreas</td>\n",
       "      <td>95.0</td>\n",
       "      <td>9.0</td>\n",
       "      <td>20.81</td>\n",
       "      <td>ps2</td>\n",
       "    </tr>\n",
       "    <tr>\n",
       "      <td>18</td>\n",
       "      <td>super mario world</td>\n",
       "      <td>NaN</td>\n",
       "      <td>NaN</td>\n",
       "      <td>20.62</td>\n",
       "      <td>snes</td>\n",
       "    </tr>\n",
       "    <tr>\n",
       "      <td>19</td>\n",
       "      <td>brain age: train your brain in minutes a day</td>\n",
       "      <td>77.0</td>\n",
       "      <td>7.9</td>\n",
       "      <td>20.14</td>\n",
       "      <td>ds</td>\n",
       "    </tr>\n",
       "    <tr>\n",
       "      <td>20</td>\n",
       "      <td>pokemon diamond/pokemon pearl</td>\n",
       "      <td>NaN</td>\n",
       "      <td>NaN</td>\n",
       "      <td>18.24</td>\n",
       "      <td>ds</td>\n",
       "    </tr>\n",
       "    <tr>\n",
       "      <td>21</td>\n",
       "      <td>super mario land</td>\n",
       "      <td>NaN</td>\n",
       "      <td>NaN</td>\n",
       "      <td>18.14</td>\n",
       "      <td>gb</td>\n",
       "    </tr>\n",
       "    <tr>\n",
       "      <td>22</td>\n",
       "      <td>super mario bros. 3</td>\n",
       "      <td>NaN</td>\n",
       "      <td>NaN</td>\n",
       "      <td>17.28</td>\n",
       "      <td>nes</td>\n",
       "    </tr>\n",
       "    <tr>\n",
       "      <td>24</td>\n",
       "      <td>grand theft auto: vice city</td>\n",
       "      <td>95.0</td>\n",
       "      <td>8.7</td>\n",
       "      <td>16.15</td>\n",
       "      <td>ps2</td>\n",
       "    </tr>\n",
       "    <tr>\n",
       "      <td>25</td>\n",
       "      <td>pokemon ruby/pokemon sapphire</td>\n",
       "      <td>NaN</td>\n",
       "      <td>NaN</td>\n",
       "      <td>15.84</td>\n",
       "      <td>gba</td>\n",
       "    </tr>\n",
       "    <tr>\n",
       "      <td>26</td>\n",
       "      <td>brain age 2: more training in minutes a day</td>\n",
       "      <td>77.0</td>\n",
       "      <td>7.1</td>\n",
       "      <td>15.28</td>\n",
       "      <td>ds</td>\n",
       "    </tr>\n",
       "    <tr>\n",
       "      <td>27</td>\n",
       "      <td>pokemon black/pokemon white</td>\n",
       "      <td>NaN</td>\n",
       "      <td>NaN</td>\n",
       "      <td>15.13</td>\n",
       "      <td>ds</td>\n",
       "    </tr>\n",
       "    <tr>\n",
       "      <td>28</td>\n",
       "      <td>gran turismo 3: a-spec</td>\n",
       "      <td>95.0</td>\n",
       "      <td>8.4</td>\n",
       "      <td>14.97</td>\n",
       "      <td>ps2</td>\n",
       "    </tr>\n",
       "    <tr>\n",
       "      <td>30</td>\n",
       "      <td>pokémon yellow: special pikachu edition</td>\n",
       "      <td>NaN</td>\n",
       "      <td>NaN</td>\n",
       "      <td>14.64</td>\n",
       "      <td>gb</td>\n",
       "    </tr>\n",
       "    <tr>\n",
       "      <td>31</td>\n",
       "      <td>call of duty: black ops 3</td>\n",
       "      <td>NaN</td>\n",
       "      <td>NaN</td>\n",
       "      <td>14.63</td>\n",
       "      <td>ps4</td>\n",
       "    </tr>\n",
       "    <tr>\n",
       "      <td>33</td>\n",
       "      <td>pokemon x/pokemon y</td>\n",
       "      <td>NaN</td>\n",
       "      <td>NaN</td>\n",
       "      <td>14.60</td>\n",
       "      <td>3ds</td>\n",
       "    </tr>\n",
       "    <tr>\n",
       "      <td>38</td>\n",
       "      <td>grand theft auto iii</td>\n",
       "      <td>97.0</td>\n",
       "      <td>8.5</td>\n",
       "      <td>13.10</td>\n",
       "      <td>ps2</td>\n",
       "    </tr>\n",
       "    <tr>\n",
       "      <td>40</td>\n",
       "      <td>mario kart 7</td>\n",
       "      <td>85.0</td>\n",
       "      <td>8.2</td>\n",
       "      <td>12.65</td>\n",
       "      <td>3ds</td>\n",
       "    </tr>\n",
       "    <tr>\n",
       "      <td>42</td>\n",
       "      <td>grand theft auto v</td>\n",
       "      <td>97.0</td>\n",
       "      <td>8.3</td>\n",
       "      <td>12.62</td>\n",
       "      <td>ps4</td>\n",
       "    </tr>\n",
       "    <tr>\n",
       "      <td>43</td>\n",
       "      <td>animal crossing: wild world</td>\n",
       "      <td>86.0</td>\n",
       "      <td>8.7</td>\n",
       "      <td>12.14</td>\n",
       "      <td>ds</td>\n",
       "    </tr>\n",
       "    <tr>\n",
       "      <td>45</td>\n",
       "      <td>super mario 64</td>\n",
       "      <td>NaN</td>\n",
       "      <td>NaN</td>\n",
       "      <td>11.90</td>\n",
       "      <td>n64</td>\n",
       "    </tr>\n",
       "    <tr>\n",
       "      <td>46</td>\n",
       "      <td>pokemon heartgold/pokemon soulsilver</td>\n",
       "      <td>NaN</td>\n",
       "      <td>NaN</td>\n",
       "      <td>11.77</td>\n",
       "      <td>ds</td>\n",
       "    </tr>\n",
       "    <tr>\n",
       "      <td>47</td>\n",
       "      <td>pokemon omega ruby/pokemon alpha sapphire</td>\n",
       "      <td>NaN</td>\n",
       "      <td>NaN</td>\n",
       "      <td>11.68</td>\n",
       "      <td>3ds</td>\n",
       "    </tr>\n",
       "    <tr>\n",
       "      <td>48</td>\n",
       "      <td>gran turismo 4</td>\n",
       "      <td>89.0</td>\n",
       "      <td>8.5</td>\n",
       "      <td>11.65</td>\n",
       "      <td>ps2</td>\n",
       "    </tr>\n",
       "  </tbody>\n",
       "</table>\n",
       "</div>"
      ],
      "text/plain": [
       "                                            name  critic_score  user_score  \\\n",
       "1                              super mario bros.           NaN         NaN   \n",
       "4                       pokemon red/pokemon blue           NaN         NaN   \n",
       "5                                         tetris           NaN         NaN   \n",
       "6                          new super mario bros.          89.0         8.5   \n",
       "9                                      duck hunt           NaN         NaN   \n",
       "10                                    nintendogs           NaN         NaN   \n",
       "11                                 mario kart ds          91.0         8.6   \n",
       "12                   pokemon gold/pokemon silver           NaN         NaN   \n",
       "17                 grand theft auto: san andreas          95.0         9.0   \n",
       "18                             super mario world           NaN         NaN   \n",
       "19  brain age: train your brain in minutes a day          77.0         7.9   \n",
       "20                 pokemon diamond/pokemon pearl           NaN         NaN   \n",
       "21                              super mario land           NaN         NaN   \n",
       "22                           super mario bros. 3           NaN         NaN   \n",
       "24                   grand theft auto: vice city          95.0         8.7   \n",
       "25                 pokemon ruby/pokemon sapphire           NaN         NaN   \n",
       "26   brain age 2: more training in minutes a day          77.0         7.1   \n",
       "27                   pokemon black/pokemon white           NaN         NaN   \n",
       "28                        gran turismo 3: a-spec          95.0         8.4   \n",
       "30       pokémon yellow: special pikachu edition           NaN         NaN   \n",
       "31                     call of duty: black ops 3           NaN         NaN   \n",
       "33                           pokemon x/pokemon y           NaN         NaN   \n",
       "38                          grand theft auto iii          97.0         8.5   \n",
       "40                                  mario kart 7          85.0         8.2   \n",
       "42                            grand theft auto v          97.0         8.3   \n",
       "43                   animal crossing: wild world          86.0         8.7   \n",
       "45                                super mario 64           NaN         NaN   \n",
       "46          pokemon heartgold/pokemon soulsilver           NaN         NaN   \n",
       "47     pokemon omega ruby/pokemon alpha sapphire           NaN         NaN   \n",
       "48                                gran turismo 4          89.0         8.5   \n",
       "\n",
       "    all_sales platform  \n",
       "1       40.24      nes  \n",
       "4       31.38       gb  \n",
       "5       30.26       gb  \n",
       "6       29.80       ds  \n",
       "9       28.31      nes  \n",
       "10      24.67       ds  \n",
       "11      23.21       ds  \n",
       "12      23.09       gb  \n",
       "17      20.81      ps2  \n",
       "18      20.62     snes  \n",
       "19      20.14       ds  \n",
       "20      18.24       ds  \n",
       "21      18.14       gb  \n",
       "22      17.28      nes  \n",
       "24      16.15      ps2  \n",
       "25      15.84      gba  \n",
       "26      15.28       ds  \n",
       "27      15.13       ds  \n",
       "28      14.97      ps2  \n",
       "30      14.64       gb  \n",
       "31      14.63      ps4  \n",
       "33      14.60      3ds  \n",
       "38      13.10      ps2  \n",
       "40      12.65      3ds  \n",
       "42      12.62      ps4  \n",
       "43      12.14       ds  \n",
       "45      11.90      n64  \n",
       "46      11.77       ds  \n",
       "47      11.68      3ds  \n",
       "48      11.65      ps2  "
      ]
     },
     "execution_count": 280,
     "metadata": {},
     "output_type": "execute_result"
    }
   ],
   "source": [
    "games_other=games.query('(\"x360\",\"ps3\",\"wii\") not in platform')\n",
    "games_other.sort_values(by = 'all_sales',\n",
    "                        ascending = False).loc[:, ['name', 'critic_score','user_score','all_sales','platform']].head(30)"
   ]
  },
  {
   "cell_type": "markdown",
   "metadata": {},
   "source": [
    "Можно сделать вывод, что продажи на других платформах в основном зависят от оценок. Однако есть исключения."
   ]
  },
  {
   "cell_type": "code",
   "execution_count": 281,
   "metadata": {},
   "outputs": [
    {
     "data": {
      "text/html": [
       "<div>\n",
       "<style scoped>\n",
       "    .dataframe tbody tr th:only-of-type {\n",
       "        vertical-align: middle;\n",
       "    }\n",
       "\n",
       "    .dataframe tbody tr th {\n",
       "        vertical-align: top;\n",
       "    }\n",
       "\n",
       "    .dataframe thead th {\n",
       "        text-align: right;\n",
       "    }\n",
       "</style>\n",
       "<table border=\"1\" class=\"dataframe\">\n",
       "  <thead>\n",
       "    <tr style=\"text-align: right;\">\n",
       "      <th></th>\n",
       "      <th>all_sales</th>\n",
       "    </tr>\n",
       "    <tr>\n",
       "      <th>genre</th>\n",
       "      <th></th>\n",
       "    </tr>\n",
       "  </thead>\n",
       "  <tbody>\n",
       "    <tr>\n",
       "      <td>Action</td>\n",
       "      <td>1716.52</td>\n",
       "    </tr>\n",
       "    <tr>\n",
       "      <td>Sports</td>\n",
       "      <td>1309.66</td>\n",
       "    </tr>\n",
       "    <tr>\n",
       "      <td>Shooter</td>\n",
       "      <td>1041.36</td>\n",
       "    </tr>\n",
       "    <tr>\n",
       "      <td>Role-Playing</td>\n",
       "      <td>931.08</td>\n",
       "    </tr>\n",
       "    <tr>\n",
       "      <td>Platform</td>\n",
       "      <td>825.55</td>\n",
       "    </tr>\n",
       "    <tr>\n",
       "      <td>Misc</td>\n",
       "      <td>790.29</td>\n",
       "    </tr>\n",
       "    <tr>\n",
       "      <td>Racing</td>\n",
       "      <td>722.16</td>\n",
       "    </tr>\n",
       "    <tr>\n",
       "      <td>Fighting</td>\n",
       "      <td>442.66</td>\n",
       "    </tr>\n",
       "    <tr>\n",
       "      <td>Simulation</td>\n",
       "      <td>387.96</td>\n",
       "    </tr>\n",
       "    <tr>\n",
       "      <td>Puzzle</td>\n",
       "      <td>239.89</td>\n",
       "    </tr>\n",
       "    <tr>\n",
       "      <td>Adventure</td>\n",
       "      <td>233.33</td>\n",
       "    </tr>\n",
       "    <tr>\n",
       "      <td>Strategy</td>\n",
       "      <td>172.57</td>\n",
       "    </tr>\n",
       "  </tbody>\n",
       "</table>\n",
       "</div>"
      ],
      "text/plain": [
       "              all_sales\n",
       "genre                  \n",
       "Action          1716.52\n",
       "Sports          1309.66\n",
       "Shooter         1041.36\n",
       "Role-Playing     931.08\n",
       "Platform         825.55\n",
       "Misc             790.29\n",
       "Racing           722.16\n",
       "Fighting         442.66\n",
       "Simulation       387.96\n",
       "Puzzle           239.89\n",
       "Adventure        233.33\n",
       "Strategy         172.57"
      ]
     },
     "execution_count": 281,
     "metadata": {},
     "output_type": "execute_result"
    }
   ],
   "source": [
    "games.pivot_table(index='genre', values ='all_sales', \n",
    "                  aggfunc='sum').sort_values(by = 'all_sales',ascending = False)"
   ]
  },
  {
   "cell_type": "markdown",
   "metadata": {},
   "source": [
    "Самая большая прибыль у жанра Action, а самые низкие продажи у жанра Strategy. Однако мы не можем утвреждать, то Action самый прибыльный жанр, так как затраты на производство такой игры обходятся дороже, чем на производство низкоприбыльных игр по типу Puzzle."
   ]
  },
  {
   "cell_type": "markdown",
   "metadata": {},
   "source": [
    "### Шаг 4. Составьте портрет пользователя каждого региона\n",
    "Определите для пользователя каждого региона (NA, EU, JP):\n",
    "- Самые популярные платформы (топ-5). Опишите различия в долях продаж.\n",
    "- Самые популярные жанры (топ-5). Поясните разницу.\n",
    "- Влияет ли рейтинг ESRB на продажи в отдельном регионе?"
   ]
  },
  {
   "cell_type": "code",
   "execution_count": 282,
   "metadata": {},
   "outputs": [
    {
     "name": "stdout",
     "output_type": "stream",
     "text": [
      "AxesSubplot(0.125,0.125;0.775x0.755)\n",
      "\n"
     ]
    },
    {
     "data": {
      "image/png": "[encoded data removed]",
      "text/plain": [
       "<Figure size 432x288 with 1 Axes>"
      ]
     },
     "metadata": {},
     "output_type": "display_data"
    }
   ],
   "source": [
    "def top(data, location, genre):\n",
    "    print(games.pivot_table(index = genre, \n",
    "                            values = location, \n",
    "                            aggfunc='sum').sort_values(by = location,ascending = False).head().plot(kind='bar'))\n",
    "    print()\n",
    "    \n",
    "#Самые популярные платформы (топ-5)\n",
    "top(games, 'all_sales', 'platform')"
   ]
  },
  {
   "cell_type": "markdown",
   "metadata": {},
   "source": [
    "Самые популярные платформы: ps2, x360, ps3, wii, ds.          "
   ]
  },
  {
   "cell_type": "code",
   "execution_count": 283,
   "metadata": {},
   "outputs": [
    {
     "name": "stdout",
     "output_type": "stream",
     "text": [
      "AxesSubplot(0.125,0.125;0.775x0.755)\n",
      "\n",
      "AxesSubplot(0.125,0.125;0.775x0.755)\n",
      "\n",
      "AxesSubplot(0.125,0.125;0.775x0.755)\n",
      "\n"
     ]
    },
    {
     "data": {
      "image/png": "[encoded data removed]",
      "text/plain": [
       "<Figure size 432x288 with 1 Axes>"
      ]
     },
     "metadata": {},
     "output_type": "display_data"
    },
    {
     "data": {
      "image/png": "[encoded data removed]",
      "text/plain": [
       "<Figure size 432x288 with 1 Axes>"
      ]
     },
     "metadata": {},
     "output_type": "display_data"
    },
    {
     "data": {
      "image/png": "[encoded data removed]",
      "text/plain": [
       "<Figure size 432x288 with 1 Axes>"
      ]
     },
     "metadata": {},
     "output_type": "display_data"
    }
   ],
   "source": [
    "#определим самые популярные платформы в каждом регионе\n",
    "top(games, 'na_sales', 'platform')\n",
    "top(games, 'eu_sales', 'platform')\n",
    "top(games, 'jp_sales', 'platform')"
   ]
  },
  {
   "cell_type": "markdown",
   "metadata": {},
   "source": [
    "Платформы x360, ps2, ps3, wii популярны в Северной Америке и Европе. Платформы ds и ps лидируют в Японии, а также популярны в Северной Америке и Европе соответственно. В Японии поплярны платформы ps2, snes, 3ds."
   ]
  },
  {
   "cell_type": "code",
   "execution_count": 284,
   "metadata": {},
   "outputs": [
    {
     "name": "stdout",
     "output_type": "stream",
     "text": [
      "AxesSubplot(0.125,0.125;0.775x0.755)\n",
      "\n",
      "AxesSubplot(0.125,0.125;0.775x0.755)\n",
      "\n",
      "AxesSubplot(0.125,0.125;0.775x0.755)\n",
      "\n"
     ]
    },
    {
     "data": {
      "image/png": "[encoded data removed]",
      "text/plain": [
       "<Figure size 432x288 with 1 Axes>"
      ]
     },
     "metadata": {},
     "output_type": "display_data"
    },
    {
     "data": {
      "image/png": "[encoded data removed]",
      "text/plain": [
       "<Figure size 432x288 with 1 Axes>"
      ]
     },
     "metadata": {},
     "output_type": "display_data"
    },
    {
     "data": {
      "image/png": "[encoded data removed]",
      "text/plain": [
       "<Figure size 432x288 with 1 Axes>"
      ]
     },
     "metadata": {},
     "output_type": "display_data"
    }
   ],
   "source": [
    "#Самые популярные жанры (топ-5)\n",
    "for row in ['na_sales', 'eu_sales', 'jp_sales']:\n",
    "    top(games, row, 'genre')"
   ]
  },
  {
   "cell_type": "markdown",
   "metadata": {},
   "source": [
    "Жанры Action, Sports, Misc популярны в каждом регионе. В Европе и Северной Америке популярен жанр Shooter, в Северной Америке и Японии популярен жанр Platform. В Японии лидирует жанр Role-Playing. А также в Европе в топ попали Racing."
   ]
  },
  {
   "cell_type": "code",
   "execution_count": 285,
   "metadata": {},
   "outputs": [
    {
     "name": "stdout",
     "output_type": "stream",
     "text": [
      "AxesSubplot(0.125,0.125;0.775x0.755)\n",
      "\n",
      "AxesSubplot(0.125,0.125;0.775x0.755)\n",
      "\n",
      "AxesSubplot(0.125,0.125;0.775x0.755)\n",
      "\n"
     ]
    },
    {
     "data": {
      "image/png": "[encoded data removed]",
      "text/plain": [
       "<Figure size 432x288 with 1 Axes>"
      ]
     },
     "metadata": {},
     "output_type": "display_data"
    },
    {
     "data": {
      "image/png": "[encoded data removed]",
      "text/plain": [
       "<Figure size 432x288 with 1 Axes>"
      ]
     },
     "metadata": {},
     "output_type": "display_data"
    },
    {
     "data": {
      "image/png": "[encoded data removed]",
      "text/plain": [
       "<Figure size 432x288 with 1 Axes>"
      ]
     },
     "metadata": {},
     "output_type": "display_data"
    }
   ],
   "source": [
    "#Влияет ли рейтинг ESRB на продажи в отдельном регионе?\n",
    "def esrb(data, location, genre):\n",
    "    print(games.pivot_table(index = genre, \n",
    "                            values = location, \n",
    "                            aggfunc='sum').sort_values(by = location,ascending = False).plot(kind='bar'))\n",
    "    print()\n",
    "    \n",
    "for row in ['na_sales', 'eu_sales', 'jp_sales']:\n",
    "    esrb(games, row, 'rating')"
   ]
  },
  {
   "cell_type": "markdown",
   "metadata": {},
   "source": [
    "Во всех регионах лидирующие позиции занимают игры с рейтингом «E» («Everyone») и «RP» («Rating Pending»). В Серной Америке и Европе самый маленький процент продаж у игр с рейтингом «AO» («Adults Only 18+») и «EC» («Early childhood»), а в Японии игры с таким рейтингом не продаются. В Северной Америке и Европе игры с рейтингом «T» («Teen») и «M» («Mature») имеют примерно одинаковые продажи и занимают 3 и 4 место в списке продаж. В Японии же рейтинг «M» продаются хуже. Во всех регионах рейтинг «E10+» («Everyone 10 and older») занимает 5 место."
   ]
  },
  {
   "cell_type": "markdown",
   "metadata": {},
   "source": [
    "### Шаг 5. Проверьте гипотезы\n",
    "- Средние пользовательские рейтинги платформ Xbox One и PC одинаковые;\n",
    "- Средние пользовательские рейтинги жанров Action (англ. «действие») и Sports (англ. «виды спорта») разные.\n",
    "Задайте самостоятельно пороговое значение alpha.\n",
    "\n",
    "Поясните:\n",
    "- Как вы сформулировали нулевую и альтернативную гипотезы;\n",
    "- Какой критерий применили для проверки гипотез и почему."
   ]
  },
  {
   "cell_type": "code",
   "execution_count": 286,
   "metadata": {},
   "outputs": [],
   "source": [
    "alpha = 0.05\n",
    "\n",
    "def gipoteza(data_1, data_2):\n",
    "    results = st.ttest_ind(\n",
    "        data_1, \n",
    "        data_2,)\n",
    "\n",
    "    print('p-value:', results.pvalue)\n",
    "\n",
    "    if (results.pvalue < alpha):\n",
    "        print(\"Отвергаем нулевую гипотезу\")\n",
    "    else:\n",
    "        print(\"Не получилось отвергнуть нулевую гипотезу\")"
   ]
  },
  {
   "cell_type": "markdown",
   "metadata": {},
   "source": [
    "Так как в столбце user_score есть пропуски, поэтому при подсчете p-value получаем nan и пропусков много, а заполнить их более менее обосновано возможности нет. В наших данных нет значений оценок пользователей меньше 0, поэтому будем проверять положительные значения, тем самым исключив пропуски."
   ]
  },
  {
   "cell_type": "code",
   "execution_count": 288,
   "metadata": {},
   "outputs": [
    {
     "data": {
      "text/html": [
       "<div>\n",
       "<style scoped>\n",
       "    .dataframe tbody tr th:only-of-type {\n",
       "        vertical-align: middle;\n",
       "    }\n",
       "\n",
       "    .dataframe tbody tr th {\n",
       "        vertical-align: top;\n",
       "    }\n",
       "\n",
       "    .dataframe thead th {\n",
       "        text-align: right;\n",
       "    }\n",
       "</style>\n",
       "<table border=\"1\" class=\"dataframe\">\n",
       "  <thead>\n",
       "    <tr style=\"text-align: right;\">\n",
       "      <th></th>\n",
       "      <th>name</th>\n",
       "      <th>platform</th>\n",
       "      <th>year_of_release</th>\n",
       "      <th>genre</th>\n",
       "      <th>na_sales</th>\n",
       "      <th>eu_sales</th>\n",
       "      <th>jp_sales</th>\n",
       "      <th>other_sales</th>\n",
       "      <th>critic_score</th>\n",
       "      <th>user_score</th>\n",
       "      <th>rating</th>\n",
       "      <th>all_sales</th>\n",
       "    </tr>\n",
       "  </thead>\n",
       "  <tbody>\n",
       "  </tbody>\n",
       "</table>\n",
       "</div>"
      ],
      "text/plain": [
       "Empty DataFrame\n",
       "Columns: [name, platform, year_of_release, genre, na_sales, eu_sales, jp_sales, other_sales, critic_score, user_score, rating, all_sales]\n",
       "Index: []"
      ]
     },
     "execution_count": 288,
     "metadata": {},
     "output_type": "execute_result"
    }
   ],
   "source": [
    "games[games['user_score'] < 0]"
   ]
  },
  {
   "cell_type": "code",
   "execution_count": 289,
   "metadata": {},
   "outputs": [],
   "source": [
    "xone = games[(games['platform'] == 'xone') & (games['user_score'] > 0)]['user_score']\n",
    "pc = games[(games['platform'] == 'pc') & (games['user_score'] > 0)]['user_score']"
   ]
  },
  {
   "cell_type": "markdown",
   "metadata": {},
   "source": [
    "- H0: средний пользовательский рейтинг платформ xone и pc одинаковый\n",
    "- H1: средний пользовательский рейтинг платформ xone и pc различается"
   ]
  },
  {
   "cell_type": "code",
   "execution_count": 290,
   "metadata": {},
   "outputs": [
    {
     "name": "stdout",
     "output_type": "stream",
     "text": [
      "p-value: 1.4016223685120801e-05\n",
      "Отвергаем нулевую гипотезу\n"
     ]
    }
   ],
   "source": [
    "gipoteza(xone, pc)"
   ]
  },
  {
   "cell_type": "markdown",
   "metadata": {},
   "source": [
    "Значит рейтинг платформ xone и pc различен."
   ]
  },
  {
   "cell_type": "code",
   "execution_count": 291,
   "metadata": {},
   "outputs": [],
   "source": [
    "action = games[(games['genre'] == 'Action') & (games['user_score'] > 0)]['user_score']\n",
    "sport = games[(games['genre'] == 'Sports') & (games['user_score'] > 0)]['user_score']"
   ]
  },
  {
   "cell_type": "markdown",
   "metadata": {},
   "source": [
    "- H0: средний пользовательский рейтинг жанров Action и Sports одинаковый\n",
    "- H1: средний пользовательский рейтинг жанров Action и Sports различается"
   ]
  },
  {
   "cell_type": "code",
   "execution_count": 292,
   "metadata": {},
   "outputs": [
    {
     "name": "stdout",
     "output_type": "stream",
     "text": [
      "p-value: 0.06833686503882228\n",
      "Не получилось отвергнуть нулевую гипотезу\n"
     ]
    }
   ],
   "source": [
    "gipoteza(action, sport)"
   ]
  },
  {
   "cell_type": "markdown",
   "metadata": {},
   "source": [
    "Значит средний пользовательский рейтинг жанров Action и Sports одинаковый."
   ]
  },
  {
   "cell_type": "markdown",
   "metadata": {},
   "source": [
    "### Шаг 6. Напишите общий вывод"
   ]
  },
  {
   "cell_type": "markdown",
   "metadata": {},
   "source": [
    "1) Были проанализированы данные интернет-магазина «Стримчик», который продаёт по всему миру компьютерные игры. Были выявлены определяющие успешность игры закономерности. \n",
    "\n",
    "Изначальные данные представлены за 1980-2016 года и содержат 16715 строк и 11 столбцов. Удалили пропуски в столбце названия,так как их мало. Пропуски в столбце с годом выпуска игры были заменены на будующий год, так как скорее всего они находятся в ствдии разработки. В столбце рейтинга пустые значения были заменены на «RP» — «Рейтинг ожидается», а значения «Е» и «К-А» были объединены в одно, так как это разные названия одного и того же. Дубликаты в названиях и платформах были удалены. Пропуски в оценки пользователей и критиков были заменены среднем.\n",
    "\n",
    "2) С 1991 года количество игр возрасстает. Пик выпуска игр пришеля на 2008 и 2009 года. После этого количество игр упало до 502 в 2016 году. Данные за все периоды не так важны, тк то что было почти 40 лет назад не очень сильно повлияет на прогноз. Лучше использовать данные за последние 3-5 лет. Новые платформы появлялись приблизительно каждые 5 лет до 2006 года.Выбрали данные для анализа за 3 года.\n",
    "\n",
    "Платформы с наибольшими суммарными продажами: ps2, x360, ps3, wii, ds, ps.\n",
    "Выбрав только актуальные данные за 2014-2016 года. Обнаружилось, что данных по платформам ds,ps,ps2 за эти года нет. Разница в продажах у всех платформ разная.\n",
    "\n",
    "- Платформа wii продавалась от 0.04 до 0.76 миллионов долларов. С медианой 0.18.\n",
    "- Платформа x360 продавалась от 0.08 до 0.5 миллионов долларов. С медианой 0.18.\n",
    "- Платформа ps3 продавалась от 0.05 до 0.35 миллионов долларов. С медианой 0.1.\n",
    "\n",
    "3) Рассмотрели оценки влияние оцеок критиков и пользователей на продали на примере платформы ps2.\n",
    "\n",
    "Оценки критиков и пользователей различны. Оценки влияют на продажи, чем выше оценка, тем лучше продается игра. Однако есть исключения, например игра fifa 16 имеет низкую оценку пользователей, но продается на этой платформе ps3 хорошо. Или же игра dark souls ii имеет высокую оценку критиков и пользователей, даже больше, чем лидер продаж - игра minecraft . Однако сильно уступает по продажам.\n",
    "\n",
    "Зависимость между ними оценками пользователей и продажами есть; зависимость между ними оценками критиков и продажами есть. Зависимость может быть вызвана тем, что многие люди смотрят на оценку игры перед покупкой.\n",
    "\n",
    "Можно сделать вывод, что продажи на других платформах в основном зависят от оценок. Однако есть исключения.\n",
    "\n",
    "Самая большая прибыль у жанра Action, а самые низкие продажи у жанра Strategy. Однако мы не можем утвреждать, то Action самый прибыльный жанр, так как затраты на производство такой игры обходятся дороже, чем на производство низкоприбыльных игр по типу Puzzle.\n",
    "\n",
    "4) Был проанализирован портрет пользователя каждого региона.\n",
    "\n",
    "Платформы x360, ps2, ps3, wii популярны в Северной Америке и Европе. Платформы ds и ps лидируют в Японии, а также популярны в Северной Америке и Европе соответственно. В Японии поплярны платформы ps2, snes, 3ds.\n",
    "\n",
    "Жанры Action, Sports, Misc популярны в каждом регионе. В Европе и Северной Америке популярен жанр Shooter, в Северной Америке и Японии популярен жанр Platform. В Японии лидирует жанр Role-Playing. А также в Европе в топ попали Racing.\n",
    "\n",
    "Во всех регионах лидирующие позиции занимают игры с рейтингом «E» («Everyone») и «RP» («Rating Pending»). В Серной Америке и Европе самый маленький процент продаж у игр с рейтингом «AO» («Adults Only 18+») и «EC» («Early childhood»), а в Японии игры с таким рейтингом не продаются. В Северной Америке и Европе игры с рейтингом «T» («Teen») и «M» («Mature») имеют примерно одинаковые продажи и занимают 3 и 4 место в списке продаж. В Японии же рейтинг «M» продаются хуже. Во всех регионах рейтинг «E10+» («Everyone 10 and older») занимает 5 место.\n",
    "\n",
    "5) Были проверены гипотезы:\n",
    "- Средние пользовательские рейтинги платформ Xbox One и PC одинаковые;\n",
    "\n",
    "    - H0: средний пользовательский рейтинг платформ xone и pc одинаковый\n",
    "    - H1: средний пользовательский рейтинг платформ xone и pc различается\n",
    "    \n",
    "Значит рейтинг платформ xone и pc различен.\n",
    "\n",
    "- Средние пользовательские рейтинги жанров Action (англ. «действие») и Sports (англ. «виды спорта») разные.\n",
    "\n",
    "    - H0: средний пользовательский рейтинг жанров Action и Sports одинаковый\n",
    "    - H1: средний пользовательский рейтинг жанров Action и Sports различается\n",
    "    \n",
    "Значит средний пользовательский рейтинг жанров Action и Sports одинаковый.\n",
    "\n",
    "Нулевая гипотеза-рейтинг жанров разный. Не получилось отвергнуть нулевую гипотезу, значит рейтинг жанров Action и Sports разный."
   ]
  }
 ],
 "metadata": {
  "kernelspec": {
   "display_name": "Python 3",
   "language": "python",
   "name": "python3"
  },
  "language_info": {
   "codemirror_mode": {
    "name": "ipython",
    "version": 3
   },
   "file_extension": ".py",
   "mimetype": "text/x-python",
   "name": "python",
   "nbconvert_exporter": "python",
   "pygments_lexer": "ipython3",
   "version": "3.7.3"
  }
 },
 "nbformat": 4,
 "nbformat_minor": 2
}
